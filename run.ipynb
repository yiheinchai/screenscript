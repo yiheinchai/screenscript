{
 "cells": [
  {
   "cell_type": "code",
   "execution_count": null,
   "metadata": {},
   "outputs": [],
   "source": [
    "from screenocr import find_text_on_screen\n",
    "from src import psma, epic, utils\n",
    "import time"
   ]
  },
  {
   "cell_type": "code",
   "execution_count": null,
   "metadata": {},
   "outputs": [],
   "source": [
    "from screenocr import find_text_on_screen\n",
    "from src import excel, epic, utils\n",
    "import time\n",
    "\n",
    "for i in range(500):\n",
    "    patient_found = epic.find_patient()\n",
    "    if not patient_found:\n",
    "        excel.log_psma_pet(None)\n",
    "    else:\n",
    "        epic.search_psma_pet()\n",
    "        no_psma_pet = utils.retry_till_false(lambda: find_text_on_screen('No results found for', region=(175,375, 930,960)))\n",
    "        has_psma_pet = not no_psma_pet\n",
    "        excel.log_psma_pet(has_psma_pet)\n",
    "        epic.close_patient()"
   ]
  },
  {
   "cell_type": "code",
   "execution_count": null,
   "metadata": {},
   "outputs": [],
   "source": [
    "from screenocr import find_text_on_screen\n",
    "from src import psma, epic\n",
    "import time\n",
    "\n",
    "for i in range(500):\n",
    "    psma.has_psma_pet()\n",
    "    # time.sleep(1)\n",
    "    has_psma_pet = not find_text_on_screen('No results found for')\n",
    "\n",
    "    for i in range(3):\n",
    "        if not has_psma_pet:\n",
    "            break\n",
    "        time.sleep(1)\n",
    "        has_psma_pet = not find_text_on_screen('No results found for')\n",
    "\n",
    "    psma.log_psma_pet(has_psma_pet)\n",
    "    epic.close_patient()"
   ]
  },
  {
   "cell_type": "code",
   "execution_count": null,
   "metadata": {},
   "outputs": [],
   "source": [
    "# --- START OF FILE main.py ---\n",
    "\n",
    "from screenocr import find_text_on_screen\n",
    "from src import excel, epic, utils  # Assuming these use play_macro internally\n",
    "from macro import PyMacroRecordLib  # Import the singleton class directly\n",
    "\n",
    "# from macro import play_macro # Don't need to import play_macro if only using singleton methods\n",
    "from pathlib import Path\n",
    "import time\n",
    "\n",
    "# --- Get the Singleton Instance ---\n",
    "# This also initializes it and starts the global listener if not already done\n",
    "pmr_lib = PyMacroRecordLib()\n",
    "pmr_lib.set_stop_key(\"esc\")  # Ensure your desired stop key is set globally\n",
    "\n",
    "# --- Reset Stop Flag ---\n",
    "# Good practice to reset before starting a long loop\n",
    "pmr_lib.reset_main_loop_stop_request()\n",
    "\n",
    "print(f\"--- Starting Main Processing Loop ---\")\n",
    "print(f\"Press '{pmr_lib.stop_key}' at any time to stop the script.\")\n",
    "\n",
    "# --- Main Loop ---\n",
    "for i in range(800):\n",
    "    print(f\"\\n======= Processing Patient Iteration {i+1}/500 =======\")\n",
    "\n",
    "    # ****** CHECK FOR STOP REQUEST ******\n",
    "    if pmr_lib.should_main_loop_stop():\n",
    "        print(\"Stop request detected. Terminating main loop.\")\n",
    "        break\n",
    "    # *************************************\n",
    "\n",
    "    try:\n",
    "        patient_found = epic.find_patient()  # Assuming this calls play_macro\n",
    "        if not patient_found:\n",
    "            excel.log_psma_pet(None)  # Assuming this calls play_macro\n",
    "        else:\n",
    "            epic.search_psma_pet()  # Assuming this calls play_macro\n",
    "\n",
    "            no_psma_pet = utils.retry_till_false(\n",
    "                lambda: find_text_on_screen(\n",
    "                    \"No results found for\", region=(175, 375, 930, 960)\n",
    "                ),\n",
    "                retries=2,\n",
    "                delay=0.75,\n",
    "            )\n",
    "\n",
    "            has_psma_pet = not no_psma_pet\n",
    "            excel.log_psma_pet(has_psma_pet)  # Assuming this calls play_macro\n",
    "            epic.close_patient()  # Assuming this calls play_macro\n",
    "\n",
    "        print(f\"------- Iteration {i+1} Complete -------\")\n",
    "        # Optional small delay\n",
    "        # time.sleep(0.2)\n",
    "\n",
    "    except Exception as e:\n",
    "        print(f\"\\n!!!!!!!!!!!!!!!!!!!!!!!!!!!!!!!!!!!!!!!!\", file=sys.stderr)\n",
    "        print(f\"!!! EXCEPTION in iteration {i+1}: {e}\", file=sys.stderr)\n",
    "        print(f\"!!!!!!!!!!!!!!!!!!!!!!!!!!!!!!!!!!!!!!!!\", file=sys.stderr)\n",
    "        # Optionally try to stop playback engine if error occurs\n",
    "        if pmr_lib.is_playing():\n",
    "            print(\"Attempting to stop playback engine due to error...\")\n",
    "            pmr_lib.playback_engine.stop_playback()  # Directly stop engine\n",
    "        print(\"Stopping main loop due to error.\")\n",
    "        # You might want to add code here to ensure Epic is in a safe state\n",
    "        break  # Stop the loop on error\n",
    "\n",
    "\n",
    "# --- Outside the loop ---\n",
    "print(\"\\n--- Main Processing Loop Finished or Stopped ---\")\n",
    "\n",
    "# Optional: Explicitly stop listener if needed, though daemon=True should handle exit\n",
    "# print(\"Stopping global listener on script exit.\")\n",
    "# pmr_lib._stop_global_listener()\n",
    "\n",
    "# --- END OF FILE main.py ---\n"
   ]
  },
  {
   "cell_type": "code",
   "execution_count": null,
   "metadata": {},
   "outputs": [],
   "source": [
    "time.sleep(5)\n",
    "for i in range(10):\n",
    "    print(find_text_on_screen('No results found for'))"
   ]
  },
  {
   "cell_type": "code",
   "execution_count": null,
   "metadata": {},
   "outputs": [],
   "source": [
    "find_text_on_screen(\n",
    "            \"to get started\", region=(24, 374, 900, 888), save_screenshot=True\n",
    "        )"
   ]
  }
 ],
 "metadata": {
  "kernelspec": {
   "display_name": "base",
   "language": "python",
   "name": "python3"
  },
  "language_info": {
   "codemirror_mode": {
    "name": "ipython",
    "version": 3
   },
   "file_extension": ".py",
   "mimetype": "text/x-python",
   "name": "python",
   "nbconvert_exporter": "python",
   "pygments_lexer": "ipython3",
   "version": "3.11.5"
  }
 },
 "nbformat": 4,
 "nbformat_minor": 2
}
