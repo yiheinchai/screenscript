{
 "cells": [
  {
   "cell_type": "code",
   "execution_count": 1,
   "metadata": {},
   "outputs": [
    {
     "name": "stdout",
     "output_type": "stream",
     "text": [
      "Warning: Could not import UserSettings from utils. Using placeholder.\n",
      "Setting updated: Playback/Speed/None = 1.5\n",
      "Playback speed set to: 1.5\n",
      "Setting updated: Playback/Repeat/Times = 3\n",
      "Repeat times set to: 3\n",
      "Setting updated: Playback/Repeat/Delay = 0.5\n",
      "Delay between repeats set to: 0.5 seconds.\n",
      "Stop key set to: Key.esc\n",
      "Macro file loaded from: checkpsmapet.pmr\n",
      "Playing macro checkpsmapet.pmr at 1.5x speed, 3 times\n",
      "Playback started. Press 'Key.esc' to stop.\n",
      "--- Starting Repeat #1 ---\n",
      "Waiting for playback to finish...\n",
      "\n",
      "Stop key (Key.esc) pressed. Stopping playback...\n",
      "Playback stopping...\n",
      "Playback stopped.\n",
      "Playback stopped during sleep interval.\n",
      "Releasing potentially held keys/buttons...\n",
      "Key/Button release attempt complete.\n",
      "Playback finished or was stopped.\n",
      "Macro playback completed\n"
     ]
    },
    {
     "data": {
      "text/plain": [
       "True"
      ]
     },
     "execution_count": 1,
     "metadata": {},
     "output_type": "execute_result"
    }
   ],
   "source": [
    "from macro import play_macro\n",
    "\n",
    "\n",
    "play_macro(\"checkpsmapet.pmr\", speed=1.5, repeat_times=3)"
   ]
  },
  {
   "cell_type": "code",
   "execution_count": 4,
   "metadata": {},
   "outputs": [
    {
     "name": "stdout",
     "output_type": "stream",
     "text": [
      "\n",
      "--- Starting screen search for: 'asdfasdfasdfa' ---\n",
      "Attempting to capture monitor 1...\n",
      "Capturing primary monitor.\n",
      "Screenshot captured.\n",
      "Performing OCR...\n",
      "OCR complete.\n",
      "Searching for 'asdfasdfasdfa' (case-insensitive)...\n",
      "INFO: Did not find 'asdfasdfasdfa' on the screen.\n",
      "--- Screen search finished ---\n"
     ]
    },
    {
     "data": {
      "text/plain": [
       "False"
      ]
     },
     "execution_count": 4,
     "metadata": {},
     "output_type": "execute_result"
    }
   ],
   "source": [
    "from screenocr import find_text_on_screen\n",
    "\n",
    "find_text_on_screen(\"asdfasdfasdfa\")"
   ]
  }
 ],
 "metadata": {
  "kernelspec": {
   "display_name": "base",
   "language": "python",
   "name": "python3"
  },
  "language_info": {
   "codemirror_mode": {
    "name": "ipython",
    "version": 3
   },
   "file_extension": ".py",
   "mimetype": "text/x-python",
   "name": "python",
   "nbconvert_exporter": "python",
   "pygments_lexer": "ipython3",
   "version": "3.11.5"
  }
 },
 "nbformat": 4,
 "nbformat_minor": 2
}
